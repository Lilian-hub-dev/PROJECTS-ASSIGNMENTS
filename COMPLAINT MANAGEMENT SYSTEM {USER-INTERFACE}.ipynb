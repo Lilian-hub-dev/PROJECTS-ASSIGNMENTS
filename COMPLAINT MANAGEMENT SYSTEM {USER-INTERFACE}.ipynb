{
 "cells": [
  {
   "cell_type": "markdown",
   "id": "03487a9a",
   "metadata": {},
   "source": [
    "## COMPLAINT MANAGEMENT SYSTEM | USER INTERFACE"
   ]
  },
  {
   "cell_type": "markdown",
   "id": "feb47325",
   "metadata": {},
   "source": [
    "# User Requirement (Manager)\n",
    "As a Data Scientist, you have been askedby your managerto build a system that helps the team todetect andtranslatecomplains made by thecompany’s French customers to English.Andthe system should also be able to translate to any language the team specifies.\n",
    "\n",
    "# User Case Story (Customer)\n",
    "1.The system should welcome me as a user\n",
    "2.The system should ask me to submitcomplain\n",
    "3.The system should tell me when my when my complain is submitted\n",
    "\n",
    "# User Case Story (Team)\n",
    "1.The system should list all the complain\n",
    "2.The system should ask me to pick a complain\n",
    "4.The system should be able to detect the language used in a complain text\n",
    "5.The system should be able to translate from one language to the other base on specification \n",
    "\n",
    "TIPS:\n",
    "A.Variables\n",
    "B.Functions\n",
    "C.Loops\n",
    "D.Conditionals\n",
    "E.Import JSON to load your response to a dictionary\n",
    "F.API:\n",
    "On the Google translate Rapidapi platform, leverage on the following:\n",
    "    •POST translate\n",
    "    •POST detect\n"
   ]
  },
  {
   "cell_type": "code",
   "execution_count": 6,
   "id": "8fbef7b9",
   "metadata": {},
   "outputs": [
    {
     "name": "stdout",
     "output_type": "stream",
     "text": [
      "Successfully submitted! \n",
      "We appreciate your feedback!\n",
      "Oops!\n"
     ]
    }
   ],
   "source": [
    "from tkinter import *\n",
    "from tkinter.ttk import *\n",
    "from tkinter import messagebox\n",
    "\n",
    "#user interface\n",
    "root = Tk()\n",
    "root.geometry('1000x700')\n",
    "root.title('LILVIVA PALACE')\n",
    "background = Canvas(root, bg = 'thistle2', width = 1000, height = 700)\n",
    "\n",
    "\n",
    "label = Label(root, text = \"WELCOME TO OUR COMPLAINT MANAGEMENT SYSTEM!\", font = 'Calibri 25 bold', foreground = 'purple').pack()\n",
    "\n",
    "\n",
    "full_name = Label(root, text = \"FULL NAME\", font = 'Calibri 12 bold', background = 'thistle2', foreground= 'purple').place(x = 200,y = 100)    \n",
    "ID_number = Label(root, text = \"ID NUMBER\", font = 'Calibri 12 bold', background = 'thistle2', foreground= 'purple').place(x = 200, y = 130) \n",
    "gender = Label(root, text = \"GENDER\", font = 'Calibri 12 bold',background = 'thistle2', foreground= 'purple').place(x = 200, y = 160)\n",
    "feedback = Label(root, text = \"FEEDBACK\", font = 'Calibri 12 bold', background = 'thistle2', foreground= 'purple').place(x = 200, y = 220)\n",
    "\n",
    "\n",
    "def submit():\n",
    "    messagebox.showinfo(\"Successfully submitted! \\n We appreciate your feedback!\")\n",
    "    print(\"Successfully submitted! \\nWe appreciate your feedback!\")\n",
    "    \n",
    "def records():\n",
    "    messagebox.showinfo(\"Oops!\")\n",
    "    print(\"Oops!\")\n",
    "    \n",
    "    \n",
    "list_button = Button(root, text=\"QUIT\", command = records).place(x=320, y=300)\n",
    "submit_button = Button(root, text = \"SUBMIT\", command = submit).place(x = 450,y = 300)\n",
    "\n",
    "                                    \n",
    "full_name_input = Entry(root, width = 40).place(x = 320, y = 100)    \n",
    "ID_number_input = Entry(root, width = 40).place(x = 320, y = 130)\n",
    "gender = StringVar()\n",
    "Radiobutton(root, text = 'Male', value = 'male' ,variable=gender, width = 5).place(x = 320, y = 160)\n",
    "Radiobutton(root, text = 'Female', value = 'female' ,variable=gender, width = 8).place(x = 400, y = 160)                                \n",
    "complain_input = Entry(root, width=40).place(x = 320, y = 220)\n",
    "    \n",
    "\n",
    "background.pack()  \n",
    "mainloop()"
   ]
  },
  {
   "cell_type": "code",
   "execution_count": null,
   "id": "63797237",
   "metadata": {},
   "outputs": [],
   "source": []
  }
 ],
 "metadata": {
  "kernelspec": {
   "display_name": "Python 3",
   "language": "python",
   "name": "python3"
  },
  "language_info": {
   "codemirror_mode": {
    "name": "ipython",
    "version": 3
   },
   "file_extension": ".py",
   "mimetype": "text/x-python",
   "name": "python",
   "nbconvert_exporter": "python",
   "pygments_lexer": "ipython3",
   "version": "3.8.8"
  }
 },
 "nbformat": 4,
 "nbformat_minor": 5
}
