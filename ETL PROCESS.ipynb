{
 "cells": [
  {
   "cell_type": "code",
   "execution_count": 2,
   "id": "7144ac06",
   "metadata": {},
   "outputs": [
    {
     "name": "stdout",
     "output_type": "stream",
     "text": [
      "Collecting pymongo\n",
      "  Downloading pymongo-3.11.4-cp38-cp38-win32.whl (377 kB)\n",
      "Installing collected packages: pymongo\n",
      "Successfully installed pymongo-3.11.4\n"
     ]
    }
   ],
   "source": [
    "!pip install pymongo\n",
    "import pymongo"
   ]
  },
  {
   "cell_type": "code",
   "execution_count": 3,
   "id": "483e9efe",
   "metadata": {},
   "outputs": [],
   "source": [
    "myclient = pymongo.MongoClient('mongodb://localhost:27017') #initializing a mongodb connection"
   ]
  },
  {
   "cell_type": "code",
   "execution_count": 4,
   "id": "053581a5",
   "metadata": {},
   "outputs": [],
   "source": [
    "mydb = myclient['employees'] #createsadatabase called mydatabase"
   ]
  },
  {
   "cell_type": "code",
   "execution_count": 5,
   "id": "6d1baf26",
   "metadata": {},
   "outputs": [],
   "source": [
    "mycol = mydb['transactions'] #creates a table(collection) called customers\n",
    "columns = [\"id\",\"name\",\"product\",\"amount\",\"saleprice\",\"status\",\"date\"]"
   ]
  },
  {
   "cell_type": "code",
   "execution_count": 12,
   "id": "c81633f5",
   "metadata": {},
   "outputs": [
    {
     "name": "stdout",
     "output_type": "stream",
     "text": [
      "Id: 1\n",
      "Name: lilian owino\n",
      "Product: hair\n",
      "Amount: 1200\n",
      "Saleprice: 500\n",
      "Status: yes\n",
      "Date YYYY-M-D: 2019-4-5\n",
      "Data has been inserted!!!\n",
      "Do you want to continue?\n",
      "Enter 1 to continue and 0 to quit: 1\n",
      "Id: 2\n",
      "Name: collins owino\n",
      "Product: shoe\n",
      "Amount: 1\n",
      "Saleprice: 2500\n",
      "Status: yes\n",
      "Date YYYY-M-D: 2020-12-5\n",
      "Data has been inserted!!!\n",
      "Do you want to continue?\n",
      "Enter 1 to continue and 0 to quit: 1\n",
      "Id: 3\n",
      "Name: gladys nekesa\n",
      "Product: dress\n",
      "Amount: 5\n",
      "Saleprice: 1500\n",
      "Status: yes\n",
      "Date YYYY-M-D: 2015-4-6\n",
      "Data has been inserted!!!\n",
      "Do you want to continue?\n",
      "Enter 1 to continue and 0 to quit: 1\n",
      "Id: 4\n",
      "Name: anne kimani\n",
      "Product: laptop\n",
      "Amount: 2\n",
      "Saleprice: 70000\n",
      "Status: yes\n",
      "Date YYYY-M-D: 2019-1-1\n",
      "Data has been inserted!!!\n",
      "Do you want to continue?\n",
      "Enter 1 to continue and 0 to quit: 1\n",
      "Id: 5\n",
      "Name: terryann mutindi\n",
      "Product: phone\n",
      "Amount: 2\n",
      "Saleprice: 30000\n",
      "Status: yes\n",
      "Date YYYY-M-D: 2015-6-7\n",
      "Data has been inserted!!!\n",
      "Do you want to continue?\n",
      "Enter 1 to continue and 0 to quit: 1\n",
      "Id: 6\n",
      "Name: winner emeto\n",
      "Product: shirt\n",
      "Amount: 1\n",
      "Saleprice: 500\n",
      "Status: no\n",
      "Date YYYY-M-D: 2021-5-1\n",
      "Data has been inserted!!!\n",
      "Do you want to continue?\n",
      "Enter 1 to continue and 0 to quit: 0\n",
      "Thank you!!\n"
     ]
    }
   ],
   "source": [
    " counter = True\n",
    "while counter:\n",
    "    user_id = input(\"Id: \")\n",
    "    name = input(\"Name: \")\n",
    "    product= input(\"Product: \")\n",
    "    amount = int(input(\"Amount: \"))\n",
    "    saleprice = float(input(\"Saleprice: \"))\n",
    "    status = input(\"Status: \")\n",
    "    date = input(\"Date YYYY-M-D: \")\n",
    "    mydict = {\"_id\":user_id,\"name\":name,\"product\":product,\"amount\":amount,\"saleprice\":saleprice,\"status\":status,\"date\":date}\n",
    "    x = mycol.insert_one(mydict)\n",
    "    print('Data has been inserted!!!')\n",
    "    print('Do you want to continue?')\n",
    "    value = int(input(\"Enter 1 to continue and 0 to quit: \"))\n",
    "    if value == 1:\n",
    "         pass\n",
    "    elif value == 0:\n",
    "        print('Thank you!!')\n",
    "        counter = False\n",
    "    else:\n",
    "         break"
   ]
  },
  {
   "cell_type": "code",
   "execution_count": 13,
   "id": "33d78404",
   "metadata": {},
   "outputs": [
    {
     "data": {
      "text/plain": [
       "<pymongo.cursor.Cursor at 0x4d39a78>"
      ]
     },
     "execution_count": 13,
     "metadata": {},
     "output_type": "execute_result"
    }
   ],
   "source": [
    "x = mycol.find()\n",
    "x    "
   ]
  },
  {
   "cell_type": "code",
   "execution_count": 15,
   "id": "787fd4e1",
   "metadata": {},
   "outputs": [
    {
     "name": "stdout",
     "output_type": "stream",
     "text": [
      "{'_id': '1', 'name': 'lilian owino', 'product': 'hair', 'amount': 1200, 'saleprice': 500.0, 'status': 'yes', 'date': '2019-4-5'}\n",
      "{'_id': '2', 'name': 'collins owino', 'product': 'shoe', 'amount': 1, 'saleprice': 2500.0, 'status': 'yes', 'date': '2020-12-5'}\n",
      "{'_id': '3', 'name': 'gladys nekesa', 'product': 'dress', 'amount': 5, 'saleprice': 1500.0, 'status': 'yes', 'date': '2015-4-6'}\n",
      "{'_id': '4', 'name': 'anne kimani', 'product': 'laptop', 'amount': 2, 'saleprice': 70000.0, 'status': 'yes', 'date': '2019-1-1'}\n",
      "{'_id': '5', 'name': 'terryann mutindi', 'product': 'phone', 'amount': 2, 'saleprice': 30000.0, 'status': 'yes', 'date': '2015-6-7'}\n",
      "{'_id': '6', 'name': 'winner emeto', 'product': 'shirt', 'amount': 1, 'saleprice': 500.0, 'status': 'no', 'date': '2021-5-1'}\n"
     ]
    }
   ],
   "source": [
    "for data in x:\n",
    "    print(data)"
   ]
  },
  {
   "cell_type": "code",
   "execution_count": 24,
   "id": "885e3680",
   "metadata": {},
   "outputs": [
    {
     "name": "stdout",
     "output_type": "stream",
     "text": [
      "{'_id': '6', 'name': 'winner emeto', 'product': 'shirt', 'amount': 1, 'saleprice': 500.0, 'status': 'no', 'date': '2021-5-1'}\n"
     ]
    }
   ],
   "source": [
    "mylist = []\n",
    "for data in x:\n",
    "   mylist.apend(data)\n",
    "print(data)"
   ]
  },
  {
   "cell_type": "code",
   "execution_count": 26,
   "id": "c5e90552",
   "metadata": {},
   "outputs": [
    {
     "name": "stdout",
     "output_type": "stream",
     "text": [
      "[]\n"
     ]
    }
   ],
   "source": [
    "print(mylist)"
   ]
  },
  {
   "cell_type": "code",
   "execution_count": 27,
   "id": "bc1579a7",
   "metadata": {},
   "outputs": [
    {
     "data": {
      "text/html": [
       "<div>\n",
       "<style scoped>\n",
       "    .dataframe tbody tr th:only-of-type {\n",
       "        vertical-align: middle;\n",
       "    }\n",
       "\n",
       "    .dataframe tbody tr th {\n",
       "        vertical-align: top;\n",
       "    }\n",
       "\n",
       "    .dataframe thead th {\n",
       "        text-align: right;\n",
       "    }\n",
       "</style>\n",
       "<table border=\"1\" class=\"dataframe\">\n",
       "  <thead>\n",
       "    <tr style=\"text-align: right;\">\n",
       "      <th></th>\n",
       "    </tr>\n",
       "  </thead>\n",
       "  <tbody>\n",
       "  </tbody>\n",
       "</table>\n",
       "</div>"
      ],
      "text/plain": [
       "Empty DataFrame\n",
       "Columns: []\n",
       "Index: []"
      ]
     },
     "execution_count": 27,
     "metadata": {},
     "output_type": "execute_result"
    }
   ],
   "source": [
    "import pandas as pd\n",
    "df = pd.DataFrame(mylist)\n",
    "df"
   ]
  },
  {
   "cell_type": "code",
   "execution_count": 30,
   "id": "e84cfecb",
   "metadata": {},
   "outputs": [
    {
     "ename": "KeyError",
     "evalue": "'amount'",
     "output_type": "error",
     "traceback": [
      "\u001b[1;31m---------------------------------------------------------------------------\u001b[0m",
      "\u001b[1;31mKeyError\u001b[0m                                  Traceback (most recent call last)",
      "\u001b[1;32m~\\anaconda3\\New folder\\lib\\site-packages\\pandas\\core\\indexes\\base.py\u001b[0m in \u001b[0;36mget_loc\u001b[1;34m(self, key, method, tolerance)\u001b[0m\n\u001b[0;32m   3079\u001b[0m             \u001b[1;32mtry\u001b[0m\u001b[1;33m:\u001b[0m\u001b[1;33m\u001b[0m\u001b[1;33m\u001b[0m\u001b[0m\n\u001b[1;32m-> 3080\u001b[1;33m                 \u001b[1;32mreturn\u001b[0m \u001b[0mself\u001b[0m\u001b[1;33m.\u001b[0m\u001b[0m_engine\u001b[0m\u001b[1;33m.\u001b[0m\u001b[0mget_loc\u001b[0m\u001b[1;33m(\u001b[0m\u001b[0mcasted_key\u001b[0m\u001b[1;33m)\u001b[0m\u001b[1;33m\u001b[0m\u001b[1;33m\u001b[0m\u001b[0m\n\u001b[0m\u001b[0;32m   3081\u001b[0m             \u001b[1;32mexcept\u001b[0m \u001b[0mKeyError\u001b[0m \u001b[1;32mas\u001b[0m \u001b[0merr\u001b[0m\u001b[1;33m:\u001b[0m\u001b[1;33m\u001b[0m\u001b[1;33m\u001b[0m\u001b[0m\n",
      "\u001b[1;32mpandas\\_libs\\index.pyx\u001b[0m in \u001b[0;36mpandas._libs.index.IndexEngine.get_loc\u001b[1;34m()\u001b[0m\n",
      "\u001b[1;32mpandas\\_libs\\index.pyx\u001b[0m in \u001b[0;36mpandas._libs.index.IndexEngine.get_loc\u001b[1;34m()\u001b[0m\n",
      "\u001b[1;32mpandas\\_libs\\hashtable_class_helper.pxi\u001b[0m in \u001b[0;36mpandas._libs.hashtable.PyObjectHashTable.get_item\u001b[1;34m()\u001b[0m\n",
      "\u001b[1;32mpandas\\_libs\\hashtable_class_helper.pxi\u001b[0m in \u001b[0;36mpandas._libs.hashtable.PyObjectHashTable.get_item\u001b[1;34m()\u001b[0m\n",
      "\u001b[1;31mKeyError\u001b[0m: 'amount'",
      "\nThe above exception was the direct cause of the following exception:\n",
      "\u001b[1;31mKeyError\u001b[0m                                  Traceback (most recent call last)",
      "\u001b[1;32m<ipython-input-30-e68ac37be20f>\u001b[0m in \u001b[0;36m<module>\u001b[1;34m\u001b[0m\n\u001b[1;32m----> 1\u001b[1;33m \u001b[0mdf\u001b[0m\u001b[1;33m[\u001b[0m\u001b[1;34m'total'\u001b[0m\u001b[1;33m]\u001b[0m \u001b[1;33m=\u001b[0m \u001b[0mdf\u001b[0m\u001b[1;33m[\u001b[0m\u001b[1;34m'amount'\u001b[0m\u001b[1;33m]\u001b[0m \u001b[1;33m*\u001b[0m \u001b[0mdf\u001b[0m\u001b[1;33m[\u001b[0m\u001b[1;34m'saleprice'\u001b[0m\u001b[1;33m]\u001b[0m\u001b[1;33m\u001b[0m\u001b[1;33m\u001b[0m\u001b[0m\n\u001b[0m\u001b[0;32m      2\u001b[0m \u001b[0mdf\u001b[0m\u001b[1;33m\u001b[0m\u001b[1;33m\u001b[0m\u001b[0m\n",
      "\u001b[1;32m~\\anaconda3\\New folder\\lib\\site-packages\\pandas\\core\\frame.py\u001b[0m in \u001b[0;36m__getitem__\u001b[1;34m(self, key)\u001b[0m\n\u001b[0;32m   3022\u001b[0m             \u001b[1;32mif\u001b[0m \u001b[0mself\u001b[0m\u001b[1;33m.\u001b[0m\u001b[0mcolumns\u001b[0m\u001b[1;33m.\u001b[0m\u001b[0mnlevels\u001b[0m \u001b[1;33m>\u001b[0m \u001b[1;36m1\u001b[0m\u001b[1;33m:\u001b[0m\u001b[1;33m\u001b[0m\u001b[1;33m\u001b[0m\u001b[0m\n\u001b[0;32m   3023\u001b[0m                 \u001b[1;32mreturn\u001b[0m \u001b[0mself\u001b[0m\u001b[1;33m.\u001b[0m\u001b[0m_getitem_multilevel\u001b[0m\u001b[1;33m(\u001b[0m\u001b[0mkey\u001b[0m\u001b[1;33m)\u001b[0m\u001b[1;33m\u001b[0m\u001b[1;33m\u001b[0m\u001b[0m\n\u001b[1;32m-> 3024\u001b[1;33m             \u001b[0mindexer\u001b[0m \u001b[1;33m=\u001b[0m \u001b[0mself\u001b[0m\u001b[1;33m.\u001b[0m\u001b[0mcolumns\u001b[0m\u001b[1;33m.\u001b[0m\u001b[0mget_loc\u001b[0m\u001b[1;33m(\u001b[0m\u001b[0mkey\u001b[0m\u001b[1;33m)\u001b[0m\u001b[1;33m\u001b[0m\u001b[1;33m\u001b[0m\u001b[0m\n\u001b[0m\u001b[0;32m   3025\u001b[0m             \u001b[1;32mif\u001b[0m \u001b[0mis_integer\u001b[0m\u001b[1;33m(\u001b[0m\u001b[0mindexer\u001b[0m\u001b[1;33m)\u001b[0m\u001b[1;33m:\u001b[0m\u001b[1;33m\u001b[0m\u001b[1;33m\u001b[0m\u001b[0m\n\u001b[0;32m   3026\u001b[0m                 \u001b[0mindexer\u001b[0m \u001b[1;33m=\u001b[0m \u001b[1;33m[\u001b[0m\u001b[0mindexer\u001b[0m\u001b[1;33m]\u001b[0m\u001b[1;33m\u001b[0m\u001b[1;33m\u001b[0m\u001b[0m\n",
      "\u001b[1;32m~\\anaconda3\\New folder\\lib\\site-packages\\pandas\\core\\indexes\\base.py\u001b[0m in \u001b[0;36mget_loc\u001b[1;34m(self, key, method, tolerance)\u001b[0m\n\u001b[0;32m   3080\u001b[0m                 \u001b[1;32mreturn\u001b[0m \u001b[0mself\u001b[0m\u001b[1;33m.\u001b[0m\u001b[0m_engine\u001b[0m\u001b[1;33m.\u001b[0m\u001b[0mget_loc\u001b[0m\u001b[1;33m(\u001b[0m\u001b[0mcasted_key\u001b[0m\u001b[1;33m)\u001b[0m\u001b[1;33m\u001b[0m\u001b[1;33m\u001b[0m\u001b[0m\n\u001b[0;32m   3081\u001b[0m             \u001b[1;32mexcept\u001b[0m \u001b[0mKeyError\u001b[0m \u001b[1;32mas\u001b[0m \u001b[0merr\u001b[0m\u001b[1;33m:\u001b[0m\u001b[1;33m\u001b[0m\u001b[1;33m\u001b[0m\u001b[0m\n\u001b[1;32m-> 3082\u001b[1;33m                 \u001b[1;32mraise\u001b[0m \u001b[0mKeyError\u001b[0m\u001b[1;33m(\u001b[0m\u001b[0mkey\u001b[0m\u001b[1;33m)\u001b[0m \u001b[1;32mfrom\u001b[0m \u001b[0merr\u001b[0m\u001b[1;33m\u001b[0m\u001b[1;33m\u001b[0m\u001b[0m\n\u001b[0m\u001b[0;32m   3083\u001b[0m \u001b[1;33m\u001b[0m\u001b[0m\n\u001b[0;32m   3084\u001b[0m         \u001b[1;32mif\u001b[0m \u001b[0mtolerance\u001b[0m \u001b[1;32mis\u001b[0m \u001b[1;32mnot\u001b[0m \u001b[1;32mNone\u001b[0m\u001b[1;33m:\u001b[0m\u001b[1;33m\u001b[0m\u001b[1;33m\u001b[0m\u001b[0m\n",
      "\u001b[1;31mKeyError\u001b[0m: 'amount'"
     ]
    }
   ],
   "source": [
    "df['total'] = df['amount'] * df['saleprice']\n",
    "df"
   ]
  },
  {
   "cell_type": "code",
   "execution_count": null,
   "id": "119d4dd3",
   "metadata": {},
   "outputs": [],
   "source": []
  }
 ],
 "metadata": {
  "kernelspec": {
   "display_name": "Python 3",
   "language": "python",
   "name": "python3"
  },
  "language_info": {
   "codemirror_mode": {
    "name": "ipython",
    "version": 3
   },
   "file_extension": ".py",
   "mimetype": "text/x-python",
   "name": "python",
   "nbconvert_exporter": "python",
   "pygments_lexer": "ipython3",
   "version": "3.8.8"
  }
 },
 "nbformat": 4,
 "nbformat_minor": 5
}
