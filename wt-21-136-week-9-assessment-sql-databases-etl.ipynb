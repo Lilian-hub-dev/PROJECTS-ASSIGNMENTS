{
 "cells": [
  {
   "cell_type": "markdown",
   "id": "5458733a",
   "metadata": {
    "papermill": {
     "duration": 0.026909,
     "end_time": "2021-07-17T00:41:58.996222",
     "exception": false,
     "start_time": "2021-07-17T00:41:58.969313",
     "status": "completed"
    },
    "tags": []
   },
   "source": [
    "**1. DBMS**\n",
    "\n",
    "This is a  software designed to store, design, retrieve and manage data in a database."
   ]
  },
  {
   "cell_type": "markdown",
   "id": "e8854db0",
   "metadata": {
    "papermill": {
     "duration": 0.026299,
     "end_time": "2021-07-17T00:41:59.048691",
     "exception": false,
     "start_time": "2021-07-17T00:41:59.022392",
     "status": "completed"
    },
    "tags": []
   },
   "source": [
    "**2. RDBMS**\n",
    "\n",
    "This is a database managament system that is based on the relational model introduced by E.F Codd"
   ]
  },
  {
   "cell_type": "markdown",
   "id": "5fd35100",
   "metadata": {
    "papermill": {
     "duration": 0.025494,
     "end_time": "2021-07-17T00:41:59.100655",
     "exception": false,
     "start_time": "2021-07-17T00:41:59.075161",
     "status": "completed"
    },
    "tags": []
   },
   "source": [
    "**3. SQL**\n",
    "\n",
    "Stands for structured query language. This is database computer language that is used for accessing and managing data, that is, storing,manipulating and retrieving relational data."
   ]
  },
  {
   "cell_type": "markdown",
   "id": "e63083f0",
   "metadata": {
    "papermill": {
     "duration": 0.025504,
     "end_time": "2021-07-17T00:41:59.152239",
     "exception": false,
     "start_time": "2021-07-17T00:41:59.126735",
     "status": "completed"
    },
    "tags": []
   },
   "source": [
    "**4. DATABASE**\n",
    "\n",
    "A database refers yo an organised collection of structured data or information usually electronically stored in a computer system."
   ]
  },
  {
   "cell_type": "markdown",
   "id": "d3367e6e",
   "metadata": {
    "papermill": {
     "duration": 0.029867,
     "end_time": "2021-07-17T00:41:59.207673",
     "exception": false,
     "start_time": "2021-07-17T00:41:59.177806",
     "status": "completed"
    },
    "tags": []
   },
   "source": [
    "**5. TABLES & FIELDS**\n",
    "\n",
    "Tables - Are a collection of related data entries tat consist of numerous columns and rows.\n",
    "  \n",
    "   \n",
    "Fields - Are small columns used to maintain specific information about every record in a table."
   ]
  },
  {
   "cell_type": "markdown",
   "id": "c4fdcd9c",
   "metadata": {
    "papermill": {
     "duration": 0.031163,
     "end_time": "2021-07-17T00:41:59.273766",
     "exception": false,
     "start_time": "2021-07-17T00:41:59.242603",
     "status": "completed"
    },
    "tags": []
   },
   "source": [
    "**6. PRIMARY KEY**\n",
    "\n",
    "This is an SQL contraint that uniquely identifies each row/record in a database table."
   ]
  },
  {
   "cell_type": "markdown",
   "id": "22356008",
   "metadata": {
    "papermill": {
     "duration": 0.025558,
     "end_time": "2021-07-17T00:41:59.328837",
     "exception": false,
     "start_time": "2021-07-17T00:41:59.303279",
     "status": "completed"
    },
    "tags": []
   },
   "source": [
    "**7. UNIQUE KEY**\n",
    "\n",
    "This is an SQL contraint that ensures all column values are different."
   ]
  },
  {
   "cell_type": "markdown",
   "id": "6bc9626e",
   "metadata": {
    "papermill": {
     "duration": 0.025264,
     "end_time": "2021-07-17T00:41:59.379839",
     "exception": false,
     "start_time": "2021-07-17T00:41:59.354575",
     "status": "completed"
    },
    "tags": []
   },
   "source": [
    "**8. FOREIGN KEY**\n",
    "\n",
    "This is an SQL contraint that uniquely identifies a row/record in any different database table."
   ]
  },
  {
   "cell_type": "markdown",
   "id": "01c820e4",
   "metadata": {
    "papermill": {
     "duration": 0.026117,
     "end_time": "2021-07-17T00:41:59.432120",
     "exception": false,
     "start_time": "2021-07-17T00:41:59.406003",
     "status": "completed"
    },
    "tags": []
   },
   "source": [
    "**9. JOIN**\n",
    "\n",
    "This is an SQL clause used to combine records from two or more tables in a database, by using values common to each."
   ]
  },
  {
   "cell_type": "markdown",
   "id": "a7308467",
   "metadata": {
    "papermill": {
     "duration": 0.025311,
     "end_time": "2021-07-17T00:41:59.483608",
     "exception": false,
     "start_time": "2021-07-17T00:41:59.458297",
     "status": "completed"
    },
    "tags": []
   },
   "source": [
    "**10. TYPES OF JOIN**\n",
    "\n",
    "\n",
    "Inner Join − this is a type of join that returns rows when there is a match in both tables.\n",
    "\n",
    "Left Join − this is type of join that returns all rows from the left table, even if there are no matches in the right table.\n",
    "\n",
    "Right Join − a type of join that returns all rows from the right table, even if there are no matches in the left table.\n",
    "\n",
    "Full join − a type of join that returns rows when there is a match in one of the tables.\n",
    "\n",
    "Self Join − this is a join used to join a table to itself as though the table were two tables, temporarily renaming at least one table in the SQL statement.\n",
    "\n",
    "Cartesian Join − this is a join that returns the Cartesian product of the sets of records from the two or more joined tables.\n",
    "\n"
   ]
  },
  {
   "cell_type": "markdown",
   "id": "05ddc602",
   "metadata": {
    "papermill": {
     "duration": 0.025314,
     "end_time": "2021-07-17T00:41:59.535480",
     "exception": false,
     "start_time": "2021-07-17T00:41:59.510166",
     "status": "completed"
    },
    "tags": []
   },
   "source": [
    "**11. NORMALIZATION**\n",
    "\n",
    "This is the process of organizing data in a database in order to eliminate redundancies and make sense out of data dependencies by eliminating undesirable characteristics like insertion, update and deletion anomalies."
   ]
  },
  {
   "cell_type": "markdown",
   "id": "fd7a6bce",
   "metadata": {
    "papermill": {
     "duration": 0.025203,
     "end_time": "2021-07-17T00:41:59.586220",
     "exception": false,
     "start_time": "2021-07-17T00:41:59.561017",
     "status": "completed"
    },
    "tags": []
   },
   "source": [
    "**12. DENORMALIZATION**\n",
    "\n",
    "This is the process of attempting to improve a database read performance by adding redundant copies of data or by grouping the data."
   ]
  },
  {
   "cell_type": "markdown",
   "id": "ce0dbb7b",
   "metadata": {
    "papermill": {
     "duration": 0.025518,
     "end_time": "2021-07-17T00:41:59.637222",
     "exception": false,
     "start_time": "2021-07-17T00:41:59.611704",
     "status": "completed"
    },
    "tags": []
   },
   "source": [
    "**13. TYPES OF NORMALIZATION**\n",
    "\n",
    "Elimination of redundancies.\n",
    "\n",
    "Making sense of data dependencies."
   ]
  },
  {
   "cell_type": "markdown",
   "id": "2c619449",
   "metadata": {
    "papermill": {
     "duration": 0.025272,
     "end_time": "2021-07-17T00:41:59.688228",
     "exception": false,
     "start_time": "2021-07-17T00:41:59.662956",
     "status": "completed"
    },
    "tags": []
   },
   "source": [
    "**13. b) THE 5 NORMAL FORMS**\n",
    "\n",
    "First normal form(1NF)\n",
    "\n",
    "Second Normal form(2NF)\n",
    "\n",
    "Third Normal form(3NF)\n",
    "\n",
    "Boyce-Codd Normal form(BCNF)\n",
    "\n",
    "Fourth Normal form(4NF)\n",
    "\n",
    "Fifth Normal form(5NF)"
   ]
  },
  {
   "cell_type": "markdown",
   "id": "cbd2eb00",
   "metadata": {
    "papermill": {
     "duration": 0.025564,
     "end_time": "2021-07-17T00:41:59.739373",
     "exception": false,
     "start_time": "2021-07-17T00:41:59.713809",
     "status": "completed"
    },
    "tags": []
   },
   "source": [
    "**14. VIEW**\n",
    "\n",
    "This is an SQL statement stored in the database with an associated name."
   ]
  },
  {
   "cell_type": "markdown",
   "id": "fd44d84e",
   "metadata": {
    "papermill": {
     "duration": 0.025107,
     "end_time": "2021-07-17T00:41:59.789965",
     "exception": false,
     "start_time": "2021-07-17T00:41:59.764858",
     "status": "completed"
    },
    "tags": []
   },
   "source": [
    "**15. INDEX**\n",
    "\n",
    "This is a special pointer to a data used in a database search engine to speed up data creation and retrieval."
   ]
  },
  {
   "cell_type": "markdown",
   "id": "e8f7c4a6",
   "metadata": {
    "papermill": {
     "duration": 0.025199,
     "end_time": "2021-07-17T00:41:59.840739",
     "exception": false,
     "start_time": "2021-07-17T00:41:59.815540",
     "status": "completed"
    },
    "tags": []
   },
   "source": [
    "**16. a) WHAT ARE ALL THE DIFFERENT TYPES OF INDEXES?**\n",
    "\n",
    "Single-column index\n",
    "\n",
    "Unique index\n",
    "\n",
    "Composite index\n",
    "\n",
    "Implicit index"
   ]
  },
  {
   "cell_type": "markdown",
   "id": "1ea35ae9",
   "metadata": {
    "papermill": {
     "duration": 0.025167,
     "end_time": "2021-07-17T00:41:59.891452",
     "exception": false,
     "start_time": "2021-07-17T00:41:59.866285",
     "status": "completed"
    },
    "tags": []
   },
   "source": [
    "**16. b) THE 3 TYPES OF INDEXES- LIST & EXPLAIN**\n",
    "\n",
    "i) Single-column index is created based on only one table column.\n",
    "   \n",
    "   syntax:  CREATE INDEX index_name ON table_name(column_name);\n",
    "\n",
    "ii) Unique index is used for perfomance and data integrity by stopping duplicate values from being insterted ino the table.\n",
    "  \n",
    "  syntax: CREATE INDEX index_name on table_name(column_name);\n",
    "\n",
    "iii) Composite index is an index on two or more columns of a table.\n",
    "   \n",
    "   syntax: CREATE INDEX index_name on table_name(column1,column2);"
   ]
  },
  {
   "cell_type": "markdown",
   "id": "dd4dfa58",
   "metadata": {
    "papermill": {
     "duration": 0.025144,
     "end_time": "2021-07-17T00:41:59.942161",
     "exception": false,
     "start_time": "2021-07-17T00:41:59.917017",
     "status": "completed"
    },
    "tags": []
   },
   "source": [
    "**17. CURSOR**\n",
    "\n",
    "This is a temporary work area created in system memory when SQL statement is executed."
   ]
  },
  {
   "cell_type": "markdown",
   "id": "43578486",
   "metadata": {
    "papermill": {
     "duration": 0.025111,
     "end_time": "2021-07-17T00:41:59.992817",
     "exception": false,
     "start_time": "2021-07-17T00:41:59.967706",
     "status": "completed"
    },
    "tags": []
   },
   "source": [
    "**18. WHAT IS A RELATIONSHIP AND WHAT ARE THEY?**\n",
    "\n",
    "Relationships are associations between tables created using JOIN statements to retrieve data.\n",
    "They are established when a child table defines a foreign key column that references the primary key of a parent table."
   ]
  },
  {
   "cell_type": "markdown",
   "id": "6157f462",
   "metadata": {
    "papermill": {
     "duration": 0.025212,
     "end_time": "2021-07-17T00:42:00.043522",
     "exception": false,
     "start_time": "2021-07-17T00:42:00.018310",
     "status": "completed"
    },
    "tags": []
   },
   "source": [
    "**19. QUERY**\n",
    "\n",
    "This is a question about a set of data."
   ]
  },
  {
   "cell_type": "markdown",
   "id": "27a0a5b0",
   "metadata": {
    "papermill": {
     "duration": 0.026254,
     "end_time": "2021-07-17T00:42:00.095398",
     "exception": false,
     "start_time": "2021-07-17T00:42:00.069144",
     "status": "completed"
    },
    "tags": []
   },
   "source": [
    "**20. SUBQUERY**\n",
    "\n",
    "This is a query wthin another SQL query and is embedded within the WHERE clause. It is used to return data that will be used in the main query as a condition to further restrict the data to be retrieved."
   ]
  },
  {
   "cell_type": "markdown",
   "id": "5b69571d",
   "metadata": {
    "papermill": {
     "duration": 0.025403,
     "end_time": "2021-07-17T00:42:00.146527",
     "exception": false,
     "start_time": "2021-07-17T00:42:00.121124",
     "status": "completed"
    },
    "tags": []
   },
   "source": [
    "**21. TYPES OF SUBQUERY**\n",
    "\n",
    "Single row subqueries\n",
    "\n",
    "Multiple rows subqueries\n",
    "\n",
    "Multiple columns subqueries\n",
    "\n",
    "Correlated subqueries\n",
    "\n",
    "Nested subqueries."
   ]
  },
  {
   "cell_type": "markdown",
   "id": "13fea968",
   "metadata": {
    "papermill": {
     "duration": 0.025729,
     "end_time": "2021-07-17T00:42:00.197825",
     "exception": false,
     "start_time": "2021-07-17T00:42:00.172096",
     "status": "completed"
    },
    "tags": []
   },
   "source": [
    "**22. STORED PROCEDURE**\n",
    "\n",
    "This is a prepared SQL code that you can save, in order for the code to be reused over and over again."
   ]
  },
  {
   "cell_type": "markdown",
   "id": "fe4635ab",
   "metadata": {
    "papermill": {
     "duration": 0.025091,
     "end_time": "2021-07-17T00:42:00.248717",
     "exception": false,
     "start_time": "2021-07-17T00:42:00.223626",
     "status": "completed"
    },
    "tags": []
   },
   "source": [
    "**23. TRIGGER**\n",
    "\n",
    "This is a stored procedure in databases which automatically invokes whenver a pseial event occurs in database.\n"
   ]
  },
  {
   "cell_type": "markdown",
   "id": "cb206a6d",
   "metadata": {
    "papermill": {
     "duration": 0.025288,
     "end_time": "2021-07-17T00:42:00.299407",
     "exception": false,
     "start_time": "2021-07-17T00:42:00.274119",
     "status": "completed"
    },
    "tags": []
   },
   "source": [
    "**24. DIFFERENCE BETWEEN TRUNCATE AND DELETE**\n",
    "\n",
    "DELETE statement is used to delete existing records from a table while TRUNCATE statement is used to delete complete data from a table."
   ]
  },
  {
   "cell_type": "markdown",
   "id": "38aa262e",
   "metadata": {
    "papermill": {
     "duration": 0.025203,
     "end_time": "2021-07-17T00:42:00.350232",
     "exception": false,
     "start_time": "2021-07-17T00:42:00.325029",
     "status": "completed"
    },
    "tags": []
   },
   "source": [
    "**25. WHAT ARE LOCAL & GLOBAL VARIABLES AND THEIR DIFFERENCE**\n",
    "\n",
    "Local variable is a type of variable declared within programming block or subroutines.\n",
    "\n",
    "Global variable is a variable defined outside the subroutine or function.\n",
    "\n",
    "**DIFFERENCES**\n",
    "\n",
    "i) Local variable is declared inside a function whereas Global variable is declared outside the function.\n",
    "\n",
    "ii) Local variables are created when the function has started execution and is lost when the function terminates while Global variables are created as execution starts and is lost when the program ends.\n",
    "\n",
    "iii) Local variable does not provide data sharing while Global variable provides data sharing.\n",
    "\n",
    "iv) Local variables are stored on the stack while  Global variables are stored on a fixed location decided by the compiler.\n",
    "\n",
    "v) Local variables require parameter paasing while this condition is not necessary for global variables."
   ]
  },
  {
   "cell_type": "markdown",
   "id": "33f88f06",
   "metadata": {
    "papermill": {
     "duration": 0.025273,
     "end_time": "2021-07-17T00:42:00.401079",
     "exception": false,
     "start_time": "2021-07-17T00:42:00.375806",
     "status": "completed"
    },
    "tags": []
   },
   "source": [
    "**26. CONSTRAINT**\n",
    "\n",
    "This is a rule enforced on the data columns of a table to limit or control the type of data that can be accepted into a table. The main objective of a contraint is to ensure reliability and accuracy of the data."
   ]
  },
  {
   "cell_type": "markdown",
   "id": "d14386f9",
   "metadata": {
    "papermill": {
     "duration": 0.025294,
     "end_time": "2021-07-17T00:42:00.451927",
     "exception": false,
     "start_time": "2021-07-17T00:42:00.426633",
     "status": "completed"
    },
    "tags": []
   },
   "source": [
    "**27. DATA INTEGRITY**\n",
    "\n",
    "Refers to the accuracy and consistency of data in a relational database, while observing uniquesness of data entries by removing duplicates."
   ]
  },
  {
   "cell_type": "markdown",
   "id": "0082e530",
   "metadata": {
    "papermill": {
     "duration": 0.026206,
     "end_time": "2021-07-17T00:42:00.503996",
     "exception": false,
     "start_time": "2021-07-17T00:42:00.477790",
     "status": "completed"
    },
    "tags": []
   },
   "source": [
    "**28. AUTO INCREMENT**\n",
    "\n",
    "This is a keyword used for automatically incrementing a value of a field in the table."
   ]
  },
  {
   "cell_type": "markdown",
   "id": "df0621cc",
   "metadata": {
    "papermill": {
     "duration": 0.025437,
     "end_time": "2021-07-17T00:42:00.555196",
     "exception": false,
     "start_time": "2021-07-17T00:42:00.529759",
     "status": "completed"
    },
    "tags": []
   },
   "source": [
    "**29. CLUSTER & NON-CLUSTER INDEX**\n",
    "\n",
    "Cluster index is a type of index where table records are physically recorded to match the index.\n",
    "\n",
    "while\n",
    "\n",
    "Non-cluster index is a type of index where the logical order of index does not match physical stored order of the rows."
   ]
  },
  {
   "cell_type": "markdown",
   "id": "55ab0aaa",
   "metadata": {
    "papermill": {
     "duration": 0.02532,
     "end_time": "2021-07-17T00:42:00.606109",
     "exception": false,
     "start_time": "2021-07-17T00:42:00.580789",
     "status": "completed"
    },
    "tags": []
   },
   "source": [
    "**30. DATAWAREHOUSE**\n",
    "\n",
    "This is a type of data management system that includes large collection of data used to enable and support organization make decisions and other business intelligence measures, especially in analytics."
   ]
  },
  {
   "cell_type": "markdown",
   "id": "54e60fbb",
   "metadata": {
    "papermill": {
     "duration": 0.02539,
     "end_time": "2021-07-17T00:42:00.657157",
     "exception": false,
     "start_time": "2021-07-17T00:42:00.631767",
     "status": "completed"
    },
    "tags": []
   },
   "source": [
    "**31. SELF-JOIN**\n",
    "\n",
    "This is a join used to join a table to itself as though the table were two tables, temporarily renaming at least one table in the SQL statement."
   ]
  },
  {
   "cell_type": "markdown",
   "id": "6cbb0a63",
   "metadata": {
    "papermill": {
     "duration": 0.025932,
     "end_time": "2021-07-17T00:42:00.708935",
     "exception": false,
     "start_time": "2021-07-17T00:42:00.683003",
     "status": "completed"
    },
    "tags": []
   },
   "source": [
    "**32. CROSS-JOIN**\n",
    "\n",
    "this is a join that returns the Cartesian product of the sets of records from the two or more joined tables. It is also known as a cartesian join."
   ]
  },
  {
   "cell_type": "markdown",
   "id": "4e039b30",
   "metadata": {
    "papermill": {
     "duration": 0.025356,
     "end_time": "2021-07-17T00:42:00.760813",
     "exception": false,
     "start_time": "2021-07-17T00:42:00.735457",
     "status": "completed"
    },
    "tags": []
   },
   "source": [
    "**33. USER DEFINED FUNCTIONS**\n",
    "\n",
    "These are functions used to organise codes in the body of a policy. They help to encapsulate and reuse functionality in a policy."
   ]
  },
  {
   "cell_type": "markdown",
   "id": "f0767154",
   "metadata": {
    "papermill": {
     "duration": 0.025292,
     "end_time": "2021-07-17T00:42:00.811917",
     "exception": false,
     "start_time": "2021-07-17T00:42:00.786625",
     "status": "completed"
    },
    "tags": []
   },
   "source": [
    "**34. TYPES OF USER-DEFINED FUNCTIONS**\n",
    "\n",
    "Scalar functions; these return a single value for example, a float,integer etc\n",
    "\n",
    "Table-valued functions; these functions return tables."
   ]
  },
  {
   "cell_type": "markdown",
   "id": "591fb250",
   "metadata": {
    "papermill": {
     "duration": 0.025225,
     "end_time": "2021-07-17T00:42:00.862788",
     "exception": false,
     "start_time": "2021-07-17T00:42:00.837563",
     "status": "completed"
    },
    "tags": []
   },
   "source": [
    "**35. COLLATION**\n",
    "\n",
    "This is a set of rules that tell database engine how to compare and sort the character data in SQL Server."
   ]
  },
  {
   "cell_type": "markdown",
   "id": "28a63f1b",
   "metadata": {
    "papermill": {
     "duration": 0.025316,
     "end_time": "2021-07-17T00:42:00.913670",
     "exception": false,
     "start_time": "2021-07-17T00:42:00.888354",
     "status": "completed"
    },
    "tags": []
   },
   "source": [
    "**36. TYPES OF COLLATION SENSITIVITY**\n",
    "\n",
    "Case sensitivity e.g A and a, B and b.\n",
    "\n",
    "Accent sensitivity e.g a and á, o and ó.\n",
    "\n",
    "Kana Sensitivity.\n",
    "\n",
    "Width sensitivity this is when a single-byte character (half-width) and the same character represented as a double-byte character (full-width) are treated differently than it is width sensitive. "
   ]
  },
  {
   "cell_type": "markdown",
   "id": "4caf06cc",
   "metadata": {
    "papermill": {
     "duration": 0.025015,
     "end_time": "2021-07-17T00:42:00.964219",
     "exception": false,
     "start_time": "2021-07-17T00:42:00.939204",
     "status": "completed"
    },
    "tags": []
   },
   "source": [
    "**37. ADVANTAGES OF STORED PROCEDURE**\n",
    "\n",
    "They have better performance since it is faster, reduced net traffic.\n",
    "\n",
    "The codes are reusable hence improving productivity.\n",
    "\n",
    "They are pre-compiled and highly scalable.\n",
    "\n",
    "They are easy to maintain.\n",
    "\n",
    "High security is observed.\n",
    "\n",
    "\n",
    "\n",
    "   **DISADVANTAGES OF STORED PRODECURE**\n",
    "   \n",
    "Testing the procedure is difficult.\n",
    "\n",
    "There is difficulty in debugging.\n",
    "\n",
    "Version control is not supported.\n",
    "\n",
    "It is costly.\n",
    "\n",
    "It is non-portable.\n",
    "   "
   ]
  },
  {
   "cell_type": "markdown",
   "id": "868e3117",
   "metadata": {
    "papermill": {
     "duration": 0.025232,
     "end_time": "2021-07-17T00:42:01.014970",
     "exception": false,
     "start_time": "2021-07-17T00:42:00.989738",
     "status": "completed"
    },
    "tags": []
   },
   "source": [
    "**38. ONLINE TRANSACTION PROCESSING (OLTP)**\n",
    "\n",
    "This is a class of software program that is capable of supporting transaction-oriented applications on the internet."
   ]
  },
  {
   "cell_type": "markdown",
   "id": "3a548e83",
   "metadata": {
    "papermill": {
     "duration": 0.025637,
     "end_time": "2021-07-17T00:42:01.066220",
     "exception": false,
     "start_time": "2021-07-17T00:42:01.040583",
     "status": "completed"
    },
    "tags": []
   },
   "source": [
    "**39. CLAUSE**\n",
    "\n",
    "Clauses are in-built functions  in SQL. that help us deal with data stored in the table easily. They help us filter and analyze data quickly. "
   ]
  },
  {
   "cell_type": "markdown",
   "id": "204216b2",
   "metadata": {
    "papermill": {
     "duration": 0.02541,
     "end_time": "2021-07-17T00:42:01.117239",
     "exception": false,
     "start_time": "2021-07-17T00:42:01.091829",
     "status": "completed"
    },
    "tags": []
   },
   "source": [
    "**40. RECURSIVE STORED PROCEDURE**\n",
    "\n",
    "This is a  stored procedure which calls itself until a stop or boundary condition is stopped."
   ]
  },
  {
   "cell_type": "markdown",
   "id": "587577dc",
   "metadata": {
    "papermill": {
     "duration": 0.025155,
     "end_time": "2021-07-17T00:42:01.168009",
     "exception": false,
     "start_time": "2021-07-17T00:42:01.142854",
     "status": "completed"
    },
    "tags": []
   },
   "source": [
    "**41. UNION, MINUS AND INTERACT COMMANDS**\n",
    "\n",
    "UNION is an operator or clause used to combine results of two or more select statements without returning any duplicate rows.\n",
    "\n",
    "MINUS command is a command used to combine results of two select statements and return only those in the final result, which belongs to the first set of the result.\n",
    "\n",
    "INTERACT command is an operator used to return rows returned by both the queries."
   ]
  },
  {
   "cell_type": "markdown",
   "id": "5d1ad3f0",
   "metadata": {
    "papermill": {
     "duration": 0.025184,
     "end_time": "2021-07-17T00:42:01.218829",
     "exception": false,
     "start_time": "2021-07-17T00:42:01.193645",
     "status": "completed"
    },
    "tags": []
   },
   "source": [
    "**42. a) ALIAS COMMAND**\n",
    "\n",
    "This is acommand used to temporarily rename a table/colummn. The actural table name does not change in the database."
   ]
  },
  {
   "cell_type": "markdown",
   "id": "6ee4c8f4",
   "metadata": {
    "papermill": {
     "duration": 0.025214,
     "end_time": "2021-07-17T00:42:01.269662",
     "exception": false,
     "start_time": "2021-07-17T00:42:01.244448",
     "status": "completed"
    },
    "tags": []
   },
   "source": [
    "**42. b) SHOW ALIAS COMMAND IN TABLE OR COLUMN**\n",
    "\n",
    "syntax 1 : \n",
    "\n",
    "SELECT column1,column2...FROM table_name AS alias_name WHERE [condition];\n",
    "\n",
    "syntax 2: \n",
    "\n",
    "SELECT column_name AS alias_name FROM table_name WHERE [condition];"
   ]
  },
  {
   "cell_type": "markdown",
   "id": "8aa9c7e1",
   "metadata": {
    "papermill": {
     "duration": 0.025208,
     "end_time": "2021-07-17T00:42:01.320177",
     "exception": false,
     "start_time": "2021-07-17T00:42:01.294969",
     "status": "completed"
    },
    "tags": []
   },
   "source": [
    "**43. DIFFERENCE BETWEEN TRUNCATE AND DROP STATEMENTS**\n",
    "\n",
    "TRUNCATE command deletes complate data from an existing database/table.\n",
    "\n",
    "DROP command deletes complete table but it would remove complete table structure from the database and one would have to recreate the table once again if they wish to store data."
   ]
  },
  {
   "cell_type": "markdown",
   "id": "3b3fb954",
   "metadata": {
    "papermill": {
     "duration": 0.025347,
     "end_time": "2021-07-17T00:42:01.370987",
     "exception": false,
     "start_time": "2021-07-17T00:42:01.345640",
     "status": "completed"
    },
    "tags": []
   },
   "source": [
    "**44. AGGREGATE & SCALAR FUNCTIONS**\n",
    "\n",
    "Aggregate functions are functions that operate against a collection of values and return a single summarising value.\n",
    "\n",
    "while\n",
    "\n",
    "Scalar functions are functions that return single value based on scalar input arguments."
   ]
  },
  {
   "cell_type": "markdown",
   "id": "55d4f0f9",
   "metadata": {
    "papermill": {
     "duration": 0.025864,
     "end_time": "2021-07-17T00:42:01.422477",
     "exception": false,
     "start_time": "2021-07-17T00:42:01.396613",
     "status": "completed"
    },
    "tags": []
   },
   "source": [
    "**45. CREATING AN EMPTY TABLE FROM AN EXISTING TABLE**\n",
    "\n",
    "CREATE TABLE NEW_TABLE_NAME AS SELECT [column1,column2...columnN] FROM EXISTING_TABLE_NAME [WHERE]"
   ]
  },
  {
   "cell_type": "markdown",
   "id": "b0e44271",
   "metadata": {
    "papermill": {
     "duration": 0.02539,
     "end_time": "2021-07-17T00:42:01.473692",
     "exception": false,
     "start_time": "2021-07-17T00:42:01.448302",
     "status": "completed"
    },
    "tags": []
   },
   "source": [
    "**46. FETCHING COMMON RECORDS FROM TWO TABLES**\n",
    "\n",
    "SELECT FROM table1\n",
    "INTERSECT\n",
    "SELECT FROM table2"
   ]
  },
  {
   "cell_type": "markdown",
   "id": "adbc1d09",
   "metadata": {
    "papermill": {
     "duration": 0.026298,
     "end_time": "2021-07-17T00:42:01.526015",
     "exception": false,
     "start_time": "2021-07-17T00:42:01.499717",
     "status": "completed"
    },
    "tags": []
   },
   "source": [
    "**47. FETCHING ALTENATE RECORDS FROM A TABLE**\n",
    "\n",
    "SELECT FROM table_name WHERE ROWID IN SELECT DECODE(MOD(ROWNUM,2),0,ROWID,NULL) FROM table_name);\n",
    "\n",
    "\n",
    "\n"
   ]
  },
  {
   "cell_type": "markdown",
   "id": "27de6476",
   "metadata": {
    "papermill": {
     "duration": 0.025611,
     "end_time": "2021-07-17T00:42:01.578144",
     "exception": false,
     "start_time": "2021-07-17T00:42:01.552533",
     "status": "completed"
    },
    "tags": []
   },
   "source": [
    "**47. FETCHING ODD OR EVEN ROW NUMBERS**\n",
    "\n",
    "\n",
    "b) SYNTAX 1: ODD\n",
    "\n",
    "SELECT FROM table_name WHERE mod(column_name,2)<>0;\n",
    "\n",
    "c) SYNTAX 2: EVEN\n",
    "\n",
    "SELECT FROM table_name WHERE mod(column_name,2)=0;"
   ]
  },
  {
   "cell_type": "markdown",
   "id": "c0042920",
   "metadata": {
    "papermill": {
     "duration": 0.025758,
     "end_time": "2021-07-17T00:42:01.630232",
     "exception": false,
     "start_time": "2021-07-17T00:42:01.604474",
     "status": "completed"
    },
    "tags": []
   },
   "source": [
    "**48. SELECTING UNIQUE RECORDS DROM A TABLE**\n",
    "\n",
    "SELECT DISTINCT column1,column2...FROM table_name;"
   ]
  },
  {
   "cell_type": "markdown",
   "id": "53b89bf0",
   "metadata": {
    "papermill": {
     "duration": 0.025316,
     "end_time": "2021-07-17T00:42:01.681467",
     "exception": false,
     "start_time": "2021-07-17T00:42:01.656151",
     "status": "completed"
    },
    "tags": []
   },
   "source": [
    "**49. COMMAND USED TO FETCH THE FIRST 5 CHARACTERS OF THE STRING**\n",
    "\n",
    "SUBSTRING command."
   ]
  },
  {
   "cell_type": "markdown",
   "id": "a2c90672",
   "metadata": {
    "papermill": {
     "duration": 0.025838,
     "end_time": "2021-07-17T00:42:01.733095",
     "exception": false,
     "start_time": "2021-07-17T00:42:01.707257",
     "status": "completed"
    },
    "tags": []
   },
   "source": [
    "**50. OPERATOR USED IN QUERY FOR PATTERN MATCHING**\n",
    "\n",
    "LIKE operator."
   ]
  }
 ],
 "metadata": {
  "kernelspec": {
   "display_name": "Python 3",
   "language": "python",
   "name": "python3"
  },
  "language_info": {
   "codemirror_mode": {
    "name": "ipython",
    "version": 3
   },
   "file_extension": ".py",
   "mimetype": "text/x-python",
   "name": "python",
   "nbconvert_exporter": "python",
   "pygments_lexer": "ipython3",
   "version": "3.7.10"
  },
  "papermill": {
   "default_parameters": {},
   "duration": 11.746662,
   "end_time": "2021-07-17T00:42:02.374074",
   "environment_variables": {},
   "exception": null,
   "input_path": "__notebook__.ipynb",
   "output_path": "__notebook__.ipynb",
   "parameters": {},
   "start_time": "2021-07-17T00:41:50.627412",
   "version": "2.3.3"
  }
 },
 "nbformat": 4,
 "nbformat_minor": 5
}
