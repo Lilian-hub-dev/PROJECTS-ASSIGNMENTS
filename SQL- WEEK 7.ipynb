{
 "cells": [
  {
   "cell_type": "markdown",
   "id": "17f4ba13",
   "metadata": {},
   "source": [
    "# SQL WEEK 7"
   ]
  },
  {
   "cell_type": "code",
   "execution_count": 3,
   "id": "5d8bd366",
   "metadata": {},
   "outputs": [],
   "source": [
    "import sqlite3"
   ]
  },
  {
   "cell_type": "code",
   "execution_count": 6,
   "id": "2774fd09",
   "metadata": {},
   "outputs": [],
   "source": [
    "con = sqlite3.connect('mydatabase.db')"
   ]
  },
  {
   "cell_type": "code",
   "execution_count": 7,
   "id": "a8fdbd46",
   "metadata": {},
   "outputs": [],
   "source": [
    "cursor = con.cursor()"
   ]
  },
  {
   "cell_type": "code",
   "execution_count": 8,
   "id": "bc511835",
   "metadata": {},
   "outputs": [
    {
     "ename": "OperationalError",
     "evalue": "table employees already exists",
     "output_type": "error",
     "traceback": [
      "\u001b[1;31m---------------------------------------------------------------------------\u001b[0m",
      "\u001b[1;31mOperationalError\u001b[0m                          Traceback (most recent call last)",
      "\u001b[1;32m<ipython-input-8-487666eb06c6>\u001b[0m in \u001b[0;36m<module>\u001b[1;34m\u001b[0m\n\u001b[1;32m----> 1\u001b[1;33m \u001b[0mcursor\u001b[0m\u001b[1;33m.\u001b[0m\u001b[0mexecute\u001b[0m\u001b[1;33m(\u001b[0m\u001b[1;34m\"CREATE TABLE employees(id integer PRIMARY KEY, name text, salary real, department text, position text, hireDate text)\"\u001b[0m\u001b[1;33m)\u001b[0m\u001b[1;33m\u001b[0m\u001b[1;33m\u001b[0m\u001b[0m\n\u001b[0m\u001b[0;32m      2\u001b[0m \u001b[0mcon\u001b[0m\u001b[1;33m.\u001b[0m\u001b[0mcommit\u001b[0m\u001b[1;33m(\u001b[0m\u001b[1;33m)\u001b[0m\u001b[1;33m\u001b[0m\u001b[1;33m\u001b[0m\u001b[0m\n",
      "\u001b[1;31mOperationalError\u001b[0m: table employees already exists"
     ]
    }
   ],
   "source": [
    "cursor.execute(\"CREATE TABLE employees(id integer PRIMARY KEY, name text, salary real, department text, position text, hireDate text)\")\n",
    "con.commit()"
   ]
  },
  {
   "cell_type": "code",
   "execution_count": 20,
   "id": "b04cf75d",
   "metadata": {},
   "outputs": [
    {
     "ename": "IntegrityError",
     "evalue": "UNIQUE constraint failed: employees.id",
     "output_type": "error",
     "traceback": [
      "\u001b[1;31m---------------------------------------------------------------------------\u001b[0m",
      "\u001b[1;31mIntegrityError\u001b[0m                            Traceback (most recent call last)",
      "\u001b[1;32m<ipython-input-20-301a7ef12f77>\u001b[0m in \u001b[0;36m<module>\u001b[1;34m\u001b[0m\n\u001b[1;32m----> 1\u001b[1;33m \u001b[0mcursor\u001b[0m\u001b[1;33m.\u001b[0m\u001b[0mexecute\u001b[0m\u001b[1;33m(\u001b[0m\u001b[1;34m\"INSERT INTO employees VALUES(1,'Lilian Owino',700,'REVENUE','Analyst','2019-10-1')\"\u001b[0m\u001b[1;33m)\u001b[0m\u001b[1;33m\u001b[0m\u001b[1;33m\u001b[0m\u001b[0m\n\u001b[0m\u001b[0;32m      2\u001b[0m \u001b[0mcon\u001b[0m\u001b[1;33m.\u001b[0m\u001b[0mcommit\u001b[0m\u001b[1;33m(\u001b[0m\u001b[1;33m)\u001b[0m\u001b[1;33m\u001b[0m\u001b[1;33m\u001b[0m\u001b[0m\n",
      "\u001b[1;31mIntegrityError\u001b[0m: UNIQUE constraint failed: employees.id"
     ]
    }
   ],
   "source": [
    "cursor.execute(\"INSERT INTO employees VALUES(1,'Lilian Owino',700,'REVENUE','Analyst','2019-10-1')\")\n",
    "con.commit()\n"
   ]
  },
  {
   "cell_type": "code",
   "execution_count": 22,
   "id": "ee47fdf9",
   "metadata": {},
   "outputs": [],
   "source": [
    "cursor.execute(\"INSERT INTO employees VALUES(3,'Collins Odhiambo',800,'REVENUE','Analyst','2019-10-1')\")\n",
    "con.commit()"
   ]
  },
  {
   "cell_type": "code",
   "execution_count": 24,
   "id": "8eff6696",
   "metadata": {},
   "outputs": [],
   "source": [
    "entities = (4,'Lilian Owino',1000,'HR','Manager','2019-10-1')\n",
    "cursor.execute(\"INSERT INTO employees(id,name,salary,department,position,hireDate) VALUES(?,?,?,?,?,?)\",entities)\n",
    "con.commit()"
   ]
  },
  {
   "cell_type": "code",
   "execution_count": 32,
   "id": "d340664a",
   "metadata": {},
   "outputs": [
    {
     "name": "stdout",
     "output_type": "stream",
     "text": [
      "Enter your ID: 5\n",
      "Enter your name: Winner Emeto\n",
      "Enter your salary: 1500\n",
      "Enter your department: Data Science\n",
      "Enter your position: Facilitator\n",
      "Enter date \"YYYY-M-D\": 2021-5-1\n",
      "Data has been inserted!!!\n"
     ]
    }
   ],
   "source": [
    "user_id = int(input('Enter your ID: '))\n",
    "name = input('Enter your name: ')\n",
    "salary = float(input('Enter your salary: '))\n",
    "department = input('Enter your department: ')\n",
    "position = input('Enter your position: ')\n",
    "date = input('Enter date \"YYYY-M-D\": ')\n",
    "entities = (user_id,name,salary,department,position,date)\n",
    "cursor.execute(\"INSERT INTO employees(id,name,salary,department,position,hireDate) VALUES(?,?,?,?,?,?)\",entities)\n",
    "con.commit()\n",
    "print('Data has been inserted!!!')"
   ]
  },
  {
   "cell_type": "code",
   "execution_count": 34,
   "id": "8f7d776a",
   "metadata": {},
   "outputs": [],
   "source": [
    "cursor.execute('UPDATE employees SET name = \"George\" where id = 3')\n",
    "con.commit()"
   ]
  },
  {
   "cell_type": "code",
   "execution_count": 35,
   "id": "54f9a005",
   "metadata": {},
   "outputs": [],
   "source": [
    "cursor.execute('UPDATE employees SET salary = 700 where id = 4')\n",
    "con.commit()"
   ]
  },
  {
   "cell_type": "code",
   "execution_count": 37,
   "id": "f1d12101",
   "metadata": {},
   "outputs": [
    {
     "name": "stdout",
     "output_type": "stream",
     "text": [
      "(1, 'Lilian Owino', 700.0, 'REVENUE', 'Analyst', '2019-10-1')\n",
      "(2, 'Collins Odhiambo', 700.0, 'REVENUE', 'Analyst', '2019-10-1')\n",
      "(3, 'George', 800.0, 'REVENUE', 'Analyst', '2019-10-1')\n",
      "(4, 'Lilian Owino', 700.0, 'HR', 'Manager', '2019-10-1')\n",
      "(5, 'Winner Emeto', 1500.0, 'Data Science', 'Facilitator', '2021-5-1')\n"
     ]
    }
   ],
   "source": [
    "cursor.execute('SELECT * FROM employees')\n",
    "rows = cursor.fetchall()\n",
    "for row in rows:\n",
    "    print(row)"
   ]
  },
  {
   "cell_type": "code",
   "execution_count": 38,
   "id": "98e4928d",
   "metadata": {},
   "outputs": [],
   "source": [
    "cursor.execute(\"UPDATE employees SET salary=300,name='Peter' where id = 2\")\n",
    "con.commit()"
   ]
  },
  {
   "cell_type": "code",
   "execution_count": 40,
   "id": "183c50e5",
   "metadata": {},
   "outputs": [
    {
     "ename": "SyntaxError",
     "evalue": "EOL while scanning string literal (<ipython-input-40-6ff0c16d617b>, line 1)",
     "output_type": "error",
     "traceback": [
      "\u001b[1;36m  File \u001b[1;32m\"<ipython-input-40-6ff0c16d617b>\"\u001b[1;36m, line \u001b[1;32m1\u001b[0m\n\u001b[1;33m    cursor.execute('UPDATE employees SET hireDate=\"2021-06-20\" where id=1)\u001b[0m\n\u001b[1;37m                                                                          ^\u001b[0m\n\u001b[1;31mSyntaxError\u001b[0m\u001b[1;31m:\u001b[0m EOL while scanning string literal\n"
     ]
    }
   ],
   "source": [
    "cursor.execute('UPDATE employees SET hireDate=\"2021-06-20\" where id=1)\n",
    "con.commit()"
   ]
  },
  {
   "cell_type": "code",
   "execution_count": null,
   "id": "4296afad",
   "metadata": {},
   "outputs": [],
   "source": [
    "cursor.execute('SELECT salary,hireDate FROM employees WHERE salary = 700 AND hireDate = 2021-06-20\"''\n",
    "rows = cursor.fetchall()\n",
    "for row in rows:\n",
    "    print(row)"
   ]
  },
  {
   "cell_type": "code",
   "execution_count": 41,
   "id": "c6b9c27e",
   "metadata": {},
   "outputs": [],
   "source": [
    "con.close()"
   ]
  },
  {
   "cell_type": "code",
   "execution_count": null,
   "id": "6df93d9a",
   "metadata": {},
   "outputs": [],
   "source": []
  }
 ],
 "metadata": {
  "kernelspec": {
   "display_name": "Python 3",
   "language": "python",
   "name": "python3"
  },
  "language_info": {
   "codemirror_mode": {
    "name": "ipython",
    "version": 3
   },
   "file_extension": ".py",
   "mimetype": "text/x-python",
   "name": "python",
   "nbconvert_exporter": "python",
   "pygments_lexer": "ipython3",
   "version": "3.8.8"
  }
 },
 "nbformat": 4,
 "nbformat_minor": 5
}
