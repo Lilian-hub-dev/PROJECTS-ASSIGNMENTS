{
 "cells": [
  {
   "cell_type": "code",
   "execution_count": 1,
   "id": "4cea86a9",
   "metadata": {},
   "outputs": [
    {
     "name": "stdout",
     "output_type": "stream",
     "text": [
      "Requirement already satisfied: SpeechRecognition in c:\\users\\administrator\\anaconda3\\lib\\site-packages (3.8.1)\n"
     ]
    }
   ],
   "source": [
    "! pip install SpeechRecognition"
   ]
  },
  {
   "cell_type": "code",
   "execution_count": 4,
   "id": "ab2c0e2b",
   "metadata": {},
   "outputs": [],
   "source": [
    "import speech_recognition as sr #recognizes speech"
   ]
  },
  {
   "cell_type": "code",
   "execution_count": 5,
   "id": "5c98b390",
   "metadata": {},
   "outputs": [
    {
     "name": "stdout",
     "output_type": "stream",
     "text": [
      "Collecting python-time\n",
      "  Downloading python-time-0.3.0.tar.gz (2.6 kB)\n",
      "Collecting arrow\n",
      "  Downloading arrow-1.1.1-py3-none-any.whl (60 kB)\n",
      "Requirement already satisfied: python-dateutil>=2.7.0 in c:\\users\\administrator\\anaconda3\\lib\\site-packages (from arrow->python-time) (2.8.1)\n",
      "Requirement already satisfied: six>=1.5 in c:\\users\\administrator\\anaconda3\\lib\\site-packages (from python-dateutil>=2.7.0->arrow->python-time) (1.15.0)\n",
      "Building wheels for collected packages: python-time\n",
      "  Building wheel for python-time (setup.py): started\n",
      "  Building wheel for python-time (setup.py): finished with status 'done'\n",
      "  Created wheel for python-time: filename=python_time-0.3.0-py3-none-any.whl size=2778 sha256=c697689826cb7819f1a5c87e85f3d6e9160a5ac0edbc21a28e309c56ef12621d\n",
      "  Stored in directory: c:\\users\\administrator\\appdata\\local\\pip\\cache\\wheels\\1d\\34\\24\\52a1f375e8d0eb2301fef542991035bd22b5fc645170a3ad8a\n",
      "Successfully built python-time\n",
      "Installing collected packages: arrow, python-time\n",
      "Successfully installed arrow-1.1.1 python-time-0.3.0\n"
     ]
    }
   ],
   "source": [
    "!pip install python-time"
   ]
  },
  {
   "cell_type": "code",
   "execution_count": 18,
   "id": "2843a2a0",
   "metadata": {},
   "outputs": [
    {
     "name": "stdout",
     "output_type": "stream",
     "text": [
      "Requirement already satisfied: playsound in c:\\users\\administrator\\anaconda3\\lib\\site-packages (1.2.2)\n"
     ]
    }
   ],
   "source": [
    "from gtts import gTTS#imports the google translate text to speech\n",
    "!pip install playsound\n",
    "import playsound #plays the sound directly without using media-player or vlc"
   ]
  },
  {
   "cell_type": "code",
   "execution_count": 19,
   "id": "d73c8357",
   "metadata": {},
   "outputs": [],
   "source": [
    "def talk():\n",
    "    input=sr.Recognizer()\n",
    "    with sr.Microphone() as source:\n",
    "        audio=input.listen(source)\n",
    "        data=\"\"\n",
    "        try:\n",
    "            data=input.recognize_google(audio)\n",
    "            print(\"My name is, \" + data)\n",
    "            \n",
    "        except sr.UnknownValueError:\n",
    "            print(\"Pardon me, I did not get you quite clearly.\")\n",
    "    return data"
   ]
  },
  {
   "cell_type": "code",
   "execution_count": 12,
   "id": "98bfba84",
   "metadata": {},
   "outputs": [],
   "source": [
    "def respond(output):\n",
    "    num=0\n",
    "    print(output)\n",
    "    num += 1\n",
    "    response=gTTS(text=output, lang='en')\n",
    "    file = str(num)+\".mp3\"\n",
    "    response.save(file)\n",
    "    playsound.playsound(file, True)\n",
    "    os.remove(file)\n",
    "    return data"
   ]
  },
  {
   "cell_type": "code",
   "execution_count": 17,
   "id": "8fe2504c",
   "metadata": {},
   "outputs": [
    {
     "name": "stdout",
     "output_type": "stream",
     "text": [
      "Hi, I am Zuri, your google assistant\n"
     ]
    },
    {
     "ename": "NameError",
     "evalue": "name 'playsound' is not defined",
     "output_type": "error",
     "traceback": [
      "\u001b[1;31m---------------------------------------------------------------------------\u001b[0m",
      "\u001b[1;31mNameError\u001b[0m                                 Traceback (most recent call last)",
      "\u001b[1;32m<ipython-input-17-2e0e5962b5d9>\u001b[0m in \u001b[0;36m<module>\u001b[1;34m\u001b[0m\n\u001b[0;32m      1\u001b[0m \u001b[1;32mif\u001b[0m \u001b[0m__name__\u001b[0m\u001b[1;33m==\u001b[0m\u001b[1;34m'__main__'\u001b[0m\u001b[1;33m:\u001b[0m\u001b[1;33m\u001b[0m\u001b[1;33m\u001b[0m\u001b[0m\n\u001b[1;32m----> 2\u001b[1;33m     \u001b[0mrespond\u001b[0m\u001b[1;33m(\u001b[0m\u001b[1;34m\"Hi, I am Zuri, your google assistant\"\u001b[0m\u001b[1;33m)\u001b[0m\u001b[1;33m\u001b[0m\u001b[1;33m\u001b[0m\u001b[0m\n\u001b[0m\u001b[0;32m      3\u001b[0m \u001b[1;33m\u001b[0m\u001b[0m\n\u001b[0;32m      4\u001b[0m     \u001b[1;32mwhile\u001b[0m\u001b[1;33m(\u001b[0m\u001b[1;36m1\u001b[0m\u001b[1;33m)\u001b[0m\u001b[1;33m:\u001b[0m\u001b[1;33m\u001b[0m\u001b[1;33m\u001b[0m\u001b[0m\n\u001b[0;32m      5\u001b[0m         \u001b[0mrespond\u001b[0m\u001b[1;33m(\u001b[0m\u001b[1;34m\"How may I help you?\"\u001b[0m\u001b[1;33m)\u001b[0m\u001b[1;33m\u001b[0m\u001b[1;33m\u001b[0m\u001b[0m\n",
      "\u001b[1;32m<ipython-input-12-74488a2a38af>\u001b[0m in \u001b[0;36mrespond\u001b[1;34m(output)\u001b[0m\n\u001b[0;32m      6\u001b[0m     \u001b[0mfile\u001b[0m \u001b[1;33m=\u001b[0m \u001b[0mstr\u001b[0m\u001b[1;33m(\u001b[0m\u001b[0mnum\u001b[0m\u001b[1;33m)\u001b[0m\u001b[1;33m+\u001b[0m\u001b[1;34m\".mp3\"\u001b[0m\u001b[1;33m\u001b[0m\u001b[1;33m\u001b[0m\u001b[0m\n\u001b[0;32m      7\u001b[0m     \u001b[0mresponse\u001b[0m\u001b[1;33m.\u001b[0m\u001b[0msave\u001b[0m\u001b[1;33m(\u001b[0m\u001b[0mfile\u001b[0m\u001b[1;33m)\u001b[0m\u001b[1;33m\u001b[0m\u001b[1;33m\u001b[0m\u001b[0m\n\u001b[1;32m----> 8\u001b[1;33m     \u001b[0mplaysound\u001b[0m\u001b[1;33m.\u001b[0m\u001b[0mplaysound\u001b[0m\u001b[1;33m(\u001b[0m\u001b[0mfile\u001b[0m\u001b[1;33m,\u001b[0m \u001b[1;32mTrue\u001b[0m\u001b[1;33m)\u001b[0m\u001b[1;33m\u001b[0m\u001b[1;33m\u001b[0m\u001b[0m\n\u001b[0m\u001b[0;32m      9\u001b[0m     \u001b[0mos\u001b[0m\u001b[1;33m.\u001b[0m\u001b[0mremove\u001b[0m\u001b[1;33m(\u001b[0m\u001b[0mfile\u001b[0m\u001b[1;33m)\u001b[0m\u001b[1;33m\u001b[0m\u001b[1;33m\u001b[0m\u001b[0m\n\u001b[0;32m     10\u001b[0m     \u001b[1;32mreturn\u001b[0m \u001b[0mdata\u001b[0m\u001b[1;33m\u001b[0m\u001b[1;33m\u001b[0m\u001b[0m\n",
      "\u001b[1;31mNameError\u001b[0m: name 'playsound' is not defined"
     ]
    }
   ],
   "source": [
    "if __name__=='__main__':\n",
    "    respond(\"Hi, I am Zuri, your google assistant\")\n",
    "          \n",
    "    while(1):\n",
    "        respond(\"How may I help you?\")\n",
    "        text=talk().lower()\n",
    "        \n",
    "        if text==0:\n",
    "            continue\n",
    "            \n",
    "        if \"stop\" in str(text) or \"exit\" in str(text) or \"bye\" in str(text):\n",
    "            respond(\"Adios!\")\n",
    "            break\n",
    "            \n",
    "        if 'wikipedia' in text:\n",
    "            respond('Searching Wikipedia')\n",
    "            text =text.replace(\"wikipedia\", \"\")\n",
    "            results = wikipedia.summary(text, sentences=3)\n",
    "            respond(\"According to Wikipedia\")\n",
    "            print(results)\n",
    "            respond(results)\n",
    "        \n",
    "            \n",
    "        elif 'search'  in text:\n",
    "            text = text.replace(\"search\", \"\")\n",
    "            webbrowser.open_new_tab(text)\n",
    "            time.sleep(5)\n",
    "        \n",
    "        elif \"calculate\" or \"what is\" in text: \n",
    "            question=talk()\n",
    "            app_id=\"Mention your API Key\"\n",
    "            client = wolframalpha.Client(app_id)\n",
    "            res = client.query(question)\n",
    "            answer = next(res.results).text\n",
    "            respond(\"The answer is \" + answer)\n",
    "            \n",
    "        elif 'open googlr' in text:\n",
    "            webbrowser.open_new_tab(\"https://www.google.com\")\n",
    "            respond(\"Google is open\")\n",
    "            time.sleep(5) \n",
    "        \n",
    "        \n",
    "        elif 'youtube' in text: \n",
    "            driver = webdriver.Chrome(r\"Mention your webdriver location\") \n",
    "            driver.implicitly_wait(1) \n",
    "            driver.maximize_window()\n",
    "            respond(\"Opening in youtube\") \n",
    "            indx = text.split().index('youtube') \n",
    "            query = text.split()[indx + 1:] \n",
    "            driver.get(\"http://www.youtube.com/results?search_query =\" + '+'.join(query))              \n",
    "                \n",
    "        elif \"open word\" in text: \n",
    "            respond(\"Opening Microsoft Word\") \n",
    "            os.startfile('Mention location of Word in your system') \n",
    "        \n",
    "        else:\n",
    "            respond(\"Application not available\")"
   ]
  },
  {
   "cell_type": "code",
   "execution_count": null,
   "id": "fe1640d9",
   "metadata": {},
   "outputs": [],
   "source": []
  },
  {
   "cell_type": "code",
   "execution_count": null,
   "id": "6c07ec8a",
   "metadata": {},
   "outputs": [],
   "source": []
  }
 ],
 "metadata": {
  "kernelspec": {
   "display_name": "Python 3",
   "language": "python",
   "name": "python3"
  },
  "language_info": {
   "codemirror_mode": {
    "name": "ipython",
    "version": 3
   },
   "file_extension": ".py",
   "mimetype": "text/x-python",
   "name": "python",
   "nbconvert_exporter": "python",
   "pygments_lexer": "ipython3",
   "version": "3.8.8"
  }
 },
 "nbformat": 4,
 "nbformat_minor": 5
}
